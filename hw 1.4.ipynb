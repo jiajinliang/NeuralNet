{
 "cells": [
  {
   "cell_type": "code",
   "execution_count": 66,
   "metadata": {},
   "outputs": [
    {
     "name": "stdout",
     "output_type": "stream",
     "text": [
      "[ 1 -1  7]\n",
      "[[ 1]\n",
      " [-1]\n",
      " [ 7]]\n",
      "[[ 2  1  1]\n",
      " [ 6  2  1]\n",
      " [-2  2  1]]\n",
      "[[ 1  0  0]\n",
      " [ 6  2  1]\n",
      " [-2  2  1]]\n",
      "[[ 1  0  0]\n",
      " [ 0  2  1]\n",
      " [-2  2  1]]\n",
      "[[1 0 0]\n",
      " [0 1 0]\n",
      " [0 0 1]]\n",
      "[[ 1  0  0  1]\n",
      " [ 0  1  0 -1]\n",
      " [ 0  0  1  7]]\n",
      "[[1 0 0]\n",
      " [1 0 0]\n",
      " [1 0 0]]\n",
      "1\n",
      "1\n",
      "3\n",
      "0.0\n"
     ]
    }
   ],
   "source": [
    "import numpy as np\n",
    "A = np.array( [ [2,1,1], [6,2,1], [-2, 2, 1] ])\n",
    "b = np. array( [[1],[-1],[7]])\n",
    "c = np.array((1,-1,7))\n",
    "print(c)\n",
    "print(b)\n",
    "x = np.zeros(3)\n",
    "B = np.array( [A[0], [0,0,0], [0,0,0]])\n",
    "print(A)\n",
    "A[0] = A[0]/A[0,0]\n",
    "print(A)\n",
    "A[1] = A[1] -A[0]*A[1,0]\n",
    "print(A)\n",
    "A[1] = A[1]/A[1,1]\n",
    "A[2] = A[2] - A[0]*A[2,0]\n",
    "A[2] = A[2] - A[1]*A[2,1]\n",
    "print(A)\n",
    "C = np.insert(A,3,c,axis=1)\n",
    "print(C)\n",
    "A[[0,1,2]] = A[[0,0,0]]\n",
    "print(A)\n",
    "print(A[0,0])\n",
    "print(A[0][0])\n",
    "print(A.shape[0])\n",
    "print(x[0])"
   ]
  },
  {
   "cell_type": "code",
   "execution_count": 81,
   "metadata": {},
   "outputs": [],
   "source": [
    "def gaussian_elimation(A,b):\n",
    "    A = A.astype(float)\n",
    "    c = np.array((b[0,0],b[1,0],b[2,0]), dtype = float)\n",
    "    A = np.insert(A,A.shape[1],c,1)\n",
    "    print(c)\n",
    "    print(A)\n",
    "    for i in range (A.shape[0]):\n",
    "        if A[i,0] != 0:\n",
    "            if i == 0:\n",
    "                break;\n",
    "            else:\n",
    "                A[[0,i]] = A[[i,0]]\n",
    "                break;\n",
    "        else:\n",
    "            break;\n",
    "    A[0] = A[0]/A[0,0]\n",
    "    A[1] = A[1] - A[0]*A[1,0]\n",
    "    A[1] = A[1]/A[1,1]\n",
    "    A[2] = A[2] - A[0]*A[2,0]\n",
    "    A[2] = A[2] - A[1]*A[2,1]\n",
    "    A[2] = A[2]/A[2,2]\n",
    "    print(A)\n",
    "    A[1] = A[1] - A[2]*A[1,2]\n",
    "    A[0] = A[0] - A[2]*A[0,2]\n",
    "    A[0] = A[0] - A[1]*A[0,1]\n",
    "    print(A)\n",
    "    x = A[:,3]\n",
    "    return x;"
   ]
  },
  {
   "cell_type": "code",
   "execution_count": 82,
   "metadata": {},
   "outputs": [
    {
     "name": "stdout",
     "output_type": "stream",
     "text": [
      "[ 1. -1.  7.]\n",
      "[[ 2.  1.  1.  1.]\n",
      " [ 6.  2.  1. -1.]\n",
      " [-2.  2.  1.  7.]]\n",
      "[[ 1.   0.5  0.5  0.5]\n",
      " [-0.   1.   2.   4. ]\n",
      " [-0.  -0.   1.   1. ]]\n",
      "[[ 1.  0.  0. -1.]\n",
      " [ 0.  1.  0.  2.]\n",
      " [-0. -0.  1.  1.]]\n",
      "[-1.  2.  1.]\n"
     ]
    }
   ],
   "source": [
    "A = np.array( [ [2,1,1], [6,2,1], [-2, 2, 1] ])\n",
    "b = np. array( [[1],[-1],[7]])\n",
    "x = gaussian_elimation(A,b)\n",
    "print(x)"
   ]
  },
  {
   "cell_type": "code",
   "execution_count": null,
   "metadata": {},
   "outputs": [],
   "source": []
  }
 ],
 "metadata": {
  "kernelspec": {
   "display_name": "Python 3",
   "language": "python",
   "name": "python3"
  },
  "language_info": {
   "codemirror_mode": {
    "name": "ipython",
    "version": 3
   },
   "file_extension": ".py",
   "mimetype": "text/x-python",
   "name": "python",
   "nbconvert_exporter": "python",
   "pygments_lexer": "ipython3",
   "version": "3.6.4"
  }
 },
 "nbformat": 4,
 "nbformat_minor": 2
}
