{
 "cells": [
  {
   "cell_type": "code",
   "execution_count": 47,
   "metadata": {},
   "outputs": [
    {
     "name": "stdout",
     "output_type": "stream",
     "text": [
      "[[0.         0.25       0.         0.         0.33333333 0.\n",
      "  0.        ]\n",
      " [0.25       0.         0.         0.         0.         0.\n",
      "  0.        ]\n",
      " [0.         0.25       0.         0.5        0.         0.33333333\n",
      "  0.5       ]\n",
      " [0.         0.25       1.         0.         0.33333333 0.\n",
      "  0.        ]\n",
      " [0.25       0.25       0.         0.5        0.         0.33333333\n",
      "  0.        ]\n",
      " [0.25       0.         0.         0.         0.33333333 0.\n",
      "  0.5       ]\n",
      " [0.25       0.         0.         0.         0.         0.33333333\n",
      "  0.        ]]\n",
      "several iteration of page-rank algorithm fiding ranks of some webpages\n",
      "[[0.46948357 0.11737089 1.38497652 1.85446011 1.32042252 0.73943663\n",
      "  0.36384976]]\n",
      "the largest eigenvector computed by numpy (that's what page-rank finds):\n",
      "[0.16584203+0.j 0.04146051+0.j 0.48923398+0.j 0.655076  +0.j\n",
      " 0.4664307 +0.j 0.26120119+0.j 0.12852757+0.j]\n",
      "the scalar between eigenvector found by numpy and the other found by iteration\n",
      "[[0.35324351+0.j 0.35324352+0.j 0.35324352+0.j 0.35324351+0.j\n",
      "  0.35324352+0.j 0.35324351+0.j 0.35324352+0.j]]\n"
     ]
    }
   ],
   "source": [
    "# Name: Jiajin Liang\n",
    "# Email: jil904@ucsd.edu\n",
    "# Part A\n",
    "import numpy as np\n",
    "import matplotlib.pyplot as pyp\n",
    "#brief introduction to pagerank algorithm\n",
    "L = np.array([[0,0.25,0,0,0.25,0.25,0.25], [0.25,0,0.25,0.25,0.25,0,0],\n",
    "              [0,0,0,1,0,0,0], [0,0,1/2,0,1/2,0,0], \n",
    "             [1/3,0,0,1/3,0,1/3,0], [0,0,1/3,0,1/3,0,1/3],\n",
    "             [0,0,1/2,0,0,1/2,0]])\n",
    "L = L.T\n",
    "print(L)\n",
    "# initial vector of ranks r\n",
    "r = np.array([[0.25], [1], [1], [1],[1],[1],[1]])\n",
    "print(\"several iteration of page-rank algorithm fiding ranks of some webpages\")\n",
    "for i in range(100):\n",
    "    r = L.dot(r)\n",
    "    #print(r.T)\n",
    "print(r.T)\n",
    "#r converges to the largest eigenvector \n",
    "w, v = np.linalg.eig(L)\n",
    "#print the largest eigenvector (scaled by some scalar)\n",
    "print(\"the largest eigenvector computed by numpy (that's what page-rank finds):\")\n",
    "print(v[:,0])\n",
    "print(\"the scalar between eigenvector found by numpy and the other found by iteration\")\n",
    "print(v[:,0] / r.T)"
   ]
  },
  {
   "cell_type": "code",
   "execution_count": 19,
   "metadata": {},
   "outputs": [
    {
     "name": "stdout",
     "output_type": "stream",
     "text": [
      "Matrix of value of x's partial derivitive:\n",
      " [[ 2.4995      2.4995      2.4995     ...  2.4995      2.4995\n",
      "   2.4995    ]\n",
      " [ 2.48947996  2.48947996  2.48947996 ...  2.48947996  2.48947996\n",
      "   2.48947996]\n",
      " [ 2.47945992  2.47945992  2.47945992 ...  2.47945992  2.47945992\n",
      "   2.47945992]\n",
      " ...\n",
      " [-2.48045992 -2.48045992 -2.48045992 ... -2.48045992 -2.48045992\n",
      "  -2.48045992]\n",
      " [-2.49047996 -2.49047996 -2.49047996 ... -2.49047996 -2.49047996\n",
      "  -2.49047996]\n",
      " [-2.5005     -2.5005     -2.5005     ... -2.5005     -2.5005\n",
      "  -2.5005    ]]\n",
      "Matrix of value of y's partial derivitive:\n",
      " [[ 2.4995      2.48947996  2.47945992 ... -2.48045992 -2.49047996\n",
      "  -2.5005    ]\n",
      " [ 2.4995      2.48947996  2.47945992 ... -2.48045992 -2.49047996\n",
      "  -2.5005    ]\n",
      " [ 2.4995      2.48947996  2.47945992 ... -2.48045992 -2.49047996\n",
      "  -2.5005    ]\n",
      " ...\n",
      " [ 2.4995      2.48947996  2.47945992 ... -2.48045992 -2.49047996\n",
      "  -2.5005    ]\n",
      " [ 2.4995      2.48947996  2.47945992 ... -2.48045992 -2.49047996\n",
      "  -2.5005    ]\n",
      " [ 2.4995      2.48947996  2.47945992 ... -2.48045992 -2.49047996\n",
      "  -2.5005    ]]\n"
     ]
    }
   ],
   "source": [
    "# Part B first function\n",
    "nrpts = 500\n",
    "xs = np.linspace(-5, 5, num = nrpts)\n",
    "ys = np.linspace(-5, 5, num = nrpts)\n",
    "xs = xs.reshape( (nrpts,1) )\n",
    "ys = ys.reshape( (1, nrpts) )\n",
    "h = 1. / nrpts\n",
    "#print(ys)\n",
    "dx = ((-(xs+h)**2/4-ys**2/4+2)-(-xs**2/4-ys**2/4+2)) / h \n",
    "dy = ((-xs**2/4-(ys+h)**2/4+2)-(-xs**2/4-ys**2/4+2)) / h\n",
    "print(\"Matrix of value of x's partial derivitive:\\n\",dx)\n",
    "print(\"Matrix of value of y's partial derivitive:\\n\",dy)"
   ]
  },
  {
   "cell_type": "code",
   "execution_count": 21,
   "metadata": {},
   "outputs": [
    {
     "name": "stdout",
     "output_type": "stream",
     "text": [
      "Matrix of value of x's partial derivitive:\n",
      " [[4.54412297e-05 4.63609763e-05 4.72993370e-05 ... 2.49904550e-01\n",
      "  2.49977323e-01 2.49999917e-01]\n",
      " [4.63609763e-05 4.72993370e-05 4.82566887e-05 ... 2.49977323e-01\n",
      "  2.49999917e-01 2.49972313e-01]\n",
      " [4.72993370e-05 4.82566887e-05 4.92334156e-05 ... 2.49999917e-01\n",
      "  2.49972313e-01 2.49894535e-01]\n",
      " ...\n",
      " [2.49904550e-01 2.49977323e-01 2.49999917e-01 ... 4.91350567e-05\n",
      "  4.81602810e-05 4.72048418e-05]\n",
      " [2.49977323e-01 2.49999917e-01 2.49972313e-01 ... 4.81602810e-05\n",
      "  4.72048418e-05 4.62683555e-05]\n",
      " [2.49999917e-01 2.49972313e-01 2.49894535e-01 ... 4.72048418e-05\n",
      "  4.62683555e-05 4.53504463e-05]]\n",
      "Matrix of value of y's partial derivitive:\n",
      " [[4.54412297e-05 4.63609763e-05 4.72993370e-05 ... 2.49904550e-01\n",
      "  2.49977323e-01 2.49999917e-01]\n",
      " [4.63609763e-05 4.72993370e-05 4.82566887e-05 ... 2.49977323e-01\n",
      "  2.49999917e-01 2.49972313e-01]\n",
      " [4.72993370e-05 4.82566887e-05 4.92334156e-05 ... 2.49999917e-01\n",
      "  2.49972313e-01 2.49894535e-01]\n",
      " ...\n",
      " [2.49904550e-01 2.49977323e-01 2.49999917e-01 ... 4.91350567e-05\n",
      "  4.81602810e-05 4.72048418e-05]\n",
      " [2.49977323e-01 2.49999917e-01 2.49972313e-01 ... 4.81602810e-05\n",
      "  4.72048418e-05 4.62683555e-05]\n",
      " [2.49999917e-01 2.49972313e-01 2.49894535e-01 ... 4.72048418e-05\n",
      "  4.62683555e-05 4.53504463e-05]]\n"
     ]
    }
   ],
   "source": [
    "# Part B second function\n",
    "nrpts = 500\n",
    "xs = np.linspace(-5, 5, num = nrpts)\n",
    "ys = np.linspace(-5, 5, num = nrpts)\n",
    "xs = xs.reshape( (nrpts,1) )\n",
    "ys = ys.reshape( (1, nrpts) )\n",
    "h = 1. / nrpts\n",
    "#print(ys)\n",
    "dx = ((1/(1+np.exp(-(xs+h)-ys)) - (1/(1+np.exp(-xs-ys))))) / h \n",
    "dy = ((1/(1+np.exp(-xs-(ys+h))) - (1/(1+np.exp(-xs-ys))))) / h\n",
    "print(\"Matrix of value of x's partial derivitive:\\n\",dx)\n",
    "print(\"Matrix of value of y's partial derivitive:\\n\",dy)"
   ]
  },
  {
   "cell_type": "code",
   "execution_count": 22,
   "metadata": {},
   "outputs": [
    {
     "data": {
      "image/png": "[encoded data removed]",
      "text/plain": [
       "<matplotlib.figure.Figure at 0x12d8e35ccf8>"
      ]
     },
     "metadata": {},
     "output_type": "display_data"
    }
   ],
   "source": [
    "# Part C first function\n",
    "#compute the numerical derivative of the function for a grid of points in\n",
    "#the interval [-1, 1] and  compare it with the \n",
    "h = 0.001#step\n",
    "xs = -100 + np.array(range(0,(int)(1/h))) * 200 * h\n",
    "ys = [(-(x+h)*(x+h)/4-1/4+2 -(-x*x/4-1/4+2))/h  for x in xs ] \n",
    "#use list comprehension\n",
    "\n",
    "pyp.subplot(2, 2, 1)\n",
    "pyp.title('numerical derivative of f(x)')\n",
    "pyp.plot(xs, ys)\n",
    "\n",
    "pyp.subplot(2, 2, 2)\n",
    "pyp.title('-x/2')\n",
    "pyp.plot(xs, -xs/2)\n",
    "\n",
    "pyp.show()"
   ]
  },
  {
   "cell_type": "code",
   "execution_count": 27,
   "metadata": {},
   "outputs": [
    {
     "data": {
      "image/png": "[encoded data removed]",
      "text/plain": [
       "<matplotlib.figure.Figure at 0x12d8e71a0f0>"
      ]
     },
     "metadata": {},
     "output_type": "display_data"
    }
   ],
   "source": [
    "# Part C second function\n",
    "#compute the numerical derivative of f(x) for a grid of points in the interval [0,2pi] \n",
    "#and  compare it with the graph of exp(x)\n",
    "#grid of points\n",
    "h = 0.001#step\n",
    "xs = -3 + np.array(range(0,(int)(1/h)))  *4 * h\n",
    "ys = [ ((1/(1+np.exp(-(x+h)-1)) - (1/(1+np.exp(-x-1))))/h)  for x in xs ]\n",
    "#use list comprehension\n",
    "\n",
    "pyp.subplot(2, 1, 1)\n",
    "pyp.title('numerical derivative of f(x)')\n",
    "pyp.plot(xs, ys)\n",
    "\n",
    "pyp.subplot(2, 1, 2)\n",
    "pyp.title('exp(-x-1)/(1+exp(-x-1))^2')\n",
    "pyp.plot(xs, np.exp(-xs-1)/np.power((1+np.exp(-xs-1)),2))\n",
    "\n",
    "pyp.show()"
   ]
  },
  {
   "cell_type": "code",
   "execution_count": 46,
   "metadata": {},
   "outputs": [
    {
     "name": "stdout",
     "output_type": "stream",
     "text": [
      "[-5.         -4.97995992 -4.95991984 -4.93987976 -4.91983968 -4.8997996\n",
      " -4.87975952 -4.85971944 -4.83967936 -4.81963928 -4.7995992  -4.77955912\n",
      " -4.75951904 -4.73947896 -4.71943888 -4.6993988  -4.67935872 -4.65931864\n",
      " -4.63927856 -4.61923848 -4.5991984  -4.57915832 -4.55911824 -4.53907816\n",
      " -4.51903808 -4.498998   -4.47895792 -4.45891784 -4.43887776 -4.41883768\n",
      " -4.3987976  -4.37875752 -4.35871743 -4.33867735 -4.31863727 -4.29859719\n",
      " -4.27855711 -4.25851703 -4.23847695 -4.21843687 -4.19839679 -4.17835671\n",
      " -4.15831663 -4.13827655 -4.11823647 -4.09819639 -4.07815631 -4.05811623\n",
      " -4.03807615 -4.01803607 -3.99799599 -3.97795591 -3.95791583 -3.93787575\n",
      " -3.91783567 -3.89779559 -3.87775551 -3.85771543 -3.83767535 -3.81763527\n",
      " -3.79759519 -3.77755511 -3.75751503 -3.73747495 -3.71743487 -3.69739479\n",
      " -3.67735471 -3.65731463 -3.63727455 -3.61723447 -3.59719439 -3.57715431\n",
      " -3.55711423 -3.53707415 -3.51703407 -3.49699399 -3.47695391 -3.45691383\n",
      " -3.43687375 -3.41683367 -3.39679359 -3.37675351 -3.35671343 -3.33667335\n",
      " -3.31663327 -3.29659319 -3.27655311 -3.25651303 -3.23647295 -3.21643287\n",
      " -3.19639279 -3.17635271 -3.15631263 -3.13627255 -3.11623246 -3.09619238\n",
      " -3.0761523  -3.05611222 -3.03607214 -3.01603206 -2.99599198 -2.9759519\n",
      " -2.95591182 -2.93587174 -2.91583166 -2.89579158 -2.8757515  -2.85571142\n",
      " -2.83567134 -2.81563126 -2.79559118 -2.7755511  -2.75551102 -2.73547094\n",
      " -2.71543086 -2.69539078 -2.6753507  -2.65531062 -2.63527054 -2.61523046\n",
      " -2.59519038 -2.5751503  -2.55511022 -2.53507014 -2.51503006 -2.49498998\n",
      " -2.4749499  -2.45490982 -2.43486974 -2.41482966 -2.39478958 -2.3747495\n",
      " -2.35470942 -2.33466934 -2.31462926 -2.29458918 -2.2745491  -2.25450902\n",
      " -2.23446894 -2.21442886 -2.19438878 -2.1743487  -2.15430862 -2.13426854\n",
      " -2.11422846 -2.09418838 -2.0741483  -2.05410822 -2.03406814 -2.01402806\n",
      " -1.99398798 -1.9739479  -1.95390782 -1.93386774 -1.91382766 -1.89378758\n",
      " -1.87374749 -1.85370741 -1.83366733 -1.81362725 -1.79358717 -1.77354709\n",
      " -1.75350701 -1.73346693 -1.71342685 -1.69338677 -1.67334669 -1.65330661\n",
      " -1.63326653 -1.61322645 -1.59318637 -1.57314629 -1.55310621 -1.53306613\n",
      " -1.51302605 -1.49298597 -1.47294589 -1.45290581 -1.43286573 -1.41282565\n",
      " -1.39278557 -1.37274549 -1.35270541 -1.33266533 -1.31262525 -1.29258517\n",
      " -1.27254509 -1.25250501 -1.23246493 -1.21242485 -1.19238477 -1.17234469\n",
      " -1.15230461 -1.13226453 -1.11222445 -1.09218437 -1.07214429 -1.05210421\n",
      " -1.03206413 -1.01202405 -0.99198397 -0.97194389 -0.95190381 -0.93186373\n",
      " -0.91182365 -0.89178357 -0.87174349 -0.85170341 -0.83166333 -0.81162325\n",
      " -0.79158317 -0.77154309 -0.75150301 -0.73146293 -0.71142285 -0.69138277\n",
      " -0.67134269 -0.65130261 -0.63126253 -0.61122244 -0.59118236 -0.57114228\n",
      " -0.5511022  -0.53106212 -0.51102204 -0.49098196 -0.47094188 -0.4509018\n",
      " -0.43086172 -0.41082164 -0.39078156 -0.37074148 -0.3507014  -0.33066132\n",
      " -0.31062124 -0.29058116 -0.27054108 -0.250501   -0.23046092 -0.21042084\n",
      " -0.19038076 -0.17034068 -0.1503006  -0.13026052 -0.11022044 -0.09018036\n",
      " -0.07014028 -0.0501002  -0.03006012 -0.01002004  0.01002004  0.03006012\n",
      "  0.0501002   0.07014028  0.09018036  0.11022044  0.13026052  0.1503006\n",
      "  0.17034068  0.19038076  0.21042084  0.23046092  0.250501    0.27054108\n",
      "  0.29058116  0.31062124  0.33066132  0.3507014   0.37074148  0.39078156\n",
      "  0.41082164  0.43086172  0.4509018   0.47094188  0.49098196  0.51102204\n",
      "  0.53106212  0.5511022   0.57114228  0.59118236  0.61122244  0.63126253\n",
      "  0.65130261  0.67134269  0.69138277  0.71142285  0.73146293  0.75150301\n",
      "  0.77154309  0.79158317  0.81162325  0.83166333  0.85170341  0.87174349\n",
      "  0.89178357  0.91182365  0.93186373  0.95190381  0.97194389  0.99198397\n",
      "  1.01202405  1.03206413  1.05210421  1.07214429  1.09218437  1.11222445\n",
      "  1.13226453  1.15230461  1.17234469  1.19238477  1.21242485  1.23246493\n",
      "  1.25250501  1.27254509  1.29258517  1.31262525  1.33266533  1.35270541\n",
      "  1.37274549  1.39278557  1.41282565  1.43286573  1.45290581  1.47294589\n",
      "  1.49298597  1.51302605  1.53306613  1.55310621  1.57314629  1.59318637\n",
      "  1.61322645  1.63326653  1.65330661  1.67334669  1.69338677  1.71342685\n",
      "  1.73346693  1.75350701  1.77354709  1.79358717  1.81362725  1.83366733\n",
      "  1.85370741  1.87374749  1.89378758  1.91382766  1.93386774  1.95390782\n",
      "  1.9739479   1.99398798  2.01402806  2.03406814  2.05410822  2.0741483\n",
      "  2.09418838  2.11422846  2.13426854  2.15430862  2.1743487   2.19438878\n",
      "  2.21442886  2.23446894  2.25450902  2.2745491   2.29458918  2.31462926\n",
      "  2.33466934  2.35470942  2.3747495   2.39478958  2.41482966  2.43486974\n",
      "  2.45490982  2.4749499   2.49498998  2.51503006  2.53507014  2.55511022\n",
      "  2.5751503   2.59519038  2.61523046  2.63527054  2.65531062  2.6753507\n",
      "  2.69539078  2.71543086  2.73547094  2.75551102  2.7755511   2.79559118\n",
      "  2.81563126  2.83567134  2.85571142  2.8757515   2.89579158  2.91583166\n",
      "  2.93587174  2.95591182  2.9759519   2.99599198  3.01603206  3.03607214\n",
      "  3.05611222  3.0761523   3.09619238  3.11623246  3.13627255  3.15631263\n",
      "  3.17635271  3.19639279  3.21643287  3.23647295  3.25651303  3.27655311\n",
      "  3.29659319  3.31663327  3.33667335  3.35671343  3.37675351  3.39679359\n",
      "  3.41683367  3.43687375  3.45691383  3.47695391  3.49699399  3.51703407\n",
      "  3.53707415  3.55711423  3.57715431  3.59719439  3.61723447  3.63727455\n",
      "  3.65731463  3.67735471  3.69739479  3.71743487  3.73747495  3.75751503\n",
      "  3.77755511  3.79759519  3.81763527  3.83767535  3.85771543  3.87775551\n",
      "  3.89779559  3.91783567  3.93787575  3.95791583  3.97795591  3.99799599\n",
      "  4.01803607  4.03807615  4.05811623  4.07815631  4.09819639  4.11823647\n",
      "  4.13827655  4.15831663  4.17835671  4.19839679  4.21843687  4.23847695\n",
      "  4.25851703  4.27855711  4.29859719  4.31863727  4.33867735  4.35871743\n",
      "  4.37875752  4.3987976   4.41883768  4.43887776  4.45891784  4.47895792\n",
      "  4.498998    4.51903808  4.53907816  4.55911824  4.57915832  4.5991984\n",
      "  4.61923848  4.63927856  4.65931864  4.67935872  4.6993988   4.71943888\n",
      "  4.73947896  4.75951904  4.77955912  4.7995992   4.81963928  4.83967936\n",
      "  4.85971944  4.87975952  4.8997996   4.91983968  4.93987976  4.95991984\n",
      "  4.97995992  5.        ]\n"
     ]
    }
   ],
   "source": [
    "# creating a surface space [-5,5]*[-5,5], 500*500 matrix\n",
    "# containing 250000 two-dimension points\n",
    "xs = np.linspace(-5, 5, num = nrpts)\n",
    "ys = np.linspace(-5, 5, num = nrpts)\n",
    "# np.meshgrid takes in two line vector and generate the 2*500*500\n",
    "# surface space\n",
    "mx = np.meshgrid(xs, ys)\n",
    "#np.shape(mx)\n",
    "print(((mx[0][1])))"
   ]
  },
  {
   "cell_type": "code",
   "execution_count": null,
   "metadata": {},
   "outputs": [],
   "source": []
  }
 ],
 "metadata": {
  "kernelspec": {
   "display_name": "Python 3",
   "language": "python",
   "name": "python3"
  },
  "language_info": {
   "codemirror_mode": {
    "name": "ipython",
    "version": 3
   },
   "file_extension": ".py",
   "mimetype": "text/x-python",
   "name": "python",
   "nbconvert_exporter": "python",
   "pygments_lexer": "ipython3",
   "version": "3.6.4"
  }
 },
 "nbformat": 4,
 "nbformat_minor": 2
}
