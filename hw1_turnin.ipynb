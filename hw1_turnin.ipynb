{
 "cells": [
  {
   "cell_type": "code",
   "execution_count": 1,
   "metadata": {},
   "outputs": [
    {
     "name": "stdout",
     "output_type": "stream",
     "text": [
      "covariance matrix C=\n",
      "  [[  32.97692674 -258.01866014]\n",
      " [-258.01866014 2103.87358053]]\n",
      "resultant matrices of SVD(C) = USVT are:\n",
      "U =\n",
      "[[-0.12180274  0.99255433]\n",
      " [ 0.99255433  0.12180274]]\n",
      "S =\n",
      "[2.13553671e+03 1.31379430e+00]\n",
      "VT =\n",
      "[[-0.12180274  0.99255433]\n",
      " [ 0.99255433  0.12180274]]\n",
      "Principle Component is:\n",
      " [[-0.12180274]\n",
      " [ 0.99255433]]\n"
     ]
    }
   ],
   "source": [
    "#Name: Jiajin Liang\n",
    "#Email: jil904@ucsd.edu\n",
    "import numpy as np\n",
    "dataset = np.load('pts.npy')\n",
    "x = np.array([[0, 2], [1, 1], [2, 0]]).T\n",
    "#print(dataset)\n",
    "C=np.cov(dataset.T)\n",
    "print(\"covariance matrix C=\\n \",C)\n",
    "U, S, VT = np.linalg.svd(C)\n",
    "print(\"resultant matrices of SVD(C) = USVT are:\")\n",
    "print(\"U =\\n%s\" % (str)(U))\n",
    "print(\"S =\\n%s\" % (str)(S))\n",
    "print(\"VT =\\n%s\" % (str)(VT))\n",
    "PC = U[:,0:1]\n",
    "print(\"Principle Component is:\\n %s\" %(str)(PC))"
   ]
  },
  {
   "cell_type": "code",
   "execution_count": null,
   "metadata": {},
   "outputs": [],
   "source": []
  }
 ],
 "metadata": {
  "kernelspec": {
   "display_name": "Python 3",
   "language": "python",
   "name": "python3"
  },
  "language_info": {
   "codemirror_mode": {
    "name": "ipython",
    "version": 3
   },
   "file_extension": ".py",
   "mimetype": "text/x-python",
   "name": "python",
   "nbconvert_exporter": "python",
   "pygments_lexer": "ipython3",
   "version": "3.6.4"
  }
 },
 "nbformat": 4,
 "nbformat_minor": 2
}
