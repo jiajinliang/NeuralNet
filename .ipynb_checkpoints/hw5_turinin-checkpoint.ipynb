{
 "cells": [
  {
   "cell_type": "code",
   "execution_count": 5,
   "metadata": {},
   "outputs": [
    {
     "name": "stdout",
     "output_type": "stream",
     "text": [
      "1051\r"
     ]
    },
    {
     "ename": "KeyboardInterrupt",
     "evalue": "",
     "output_type": "error",
     "traceback": [
      "\u001b[1;31m---------------------------------------------------------------------------\u001b[0m",
      "\u001b[1;31mKeyboardInterrupt\u001b[0m                         Traceback (most recent call last)",
      "\u001b[1;32m<ipython-input-5-ceb533e76c6b>\u001b[0m in \u001b[0;36m<module>\u001b[1;34m()\u001b[0m\n\u001b[0;32m     20\u001b[0m     \u001b[0mtemp\u001b[0m \u001b[1;33m=\u001b[0m \u001b[0mx\u001b[0m \u001b[1;33m-\u001b[0m \u001b[0malpha\u001b[0m \u001b[1;33m*\u001b[0m \u001b[0mA\u001b[0m\u001b[1;33m.\u001b[0m\u001b[0mT\u001b[0m\u001b[1;33m.\u001b[0m\u001b[0mdot\u001b[0m\u001b[1;33m(\u001b[0m\u001b[0mA\u001b[0m\u001b[1;33m.\u001b[0m\u001b[0mdot\u001b[0m\u001b[1;33m(\u001b[0m\u001b[0mx\u001b[0m\u001b[1;33m)\u001b[0m \u001b[1;33m-\u001b[0m \u001b[0mb\u001b[0m\u001b[1;33m)\u001b[0m\u001b[1;33m\u001b[0m\u001b[0m\n\u001b[0;32m     21\u001b[0m     \u001b[0mx\u001b[0m \u001b[1;33m=\u001b[0m \u001b[0mtemp\u001b[0m\u001b[1;33m\u001b[0m\u001b[0m\n\u001b[1;32m---> 22\u001b[1;33m     \u001b[0mx\u001b[0m \u001b[1;33m=\u001b[0m \u001b[0mSoftThresholdingOp\u001b[0m\u001b[1;33m(\u001b[0m\u001b[0mx\u001b[0m\u001b[1;33m,\u001b[0m\u001b[0mp\u001b[0m\u001b[1;33m,\u001b[0m\u001b[0malpha\u001b[0m\u001b[1;33m)\u001b[0m\u001b[1;33m\u001b[0m\u001b[0m\n\u001b[0m\u001b[0;32m     23\u001b[0m     \u001b[0mi\u001b[0m \u001b[1;33m=\u001b[0m \u001b[1;36m0\u001b[0m\u001b[1;33m\u001b[0m\u001b[0m\n\u001b[0;32m     24\u001b[0m     \u001b[1;32mfor\u001b[0m \u001b[0mc\u001b[0m \u001b[1;32min\u001b[0m \u001b[0mx\u001b[0m\u001b[1;33m:\u001b[0m\u001b[1;33m\u001b[0m\u001b[0m\n",
      "\u001b[1;32m<ipython-input-5-ceb533e76c6b>\u001b[0m in \u001b[0;36mSoftThresholdingOp\u001b[1;34m(x, p, alpha)\u001b[0m\n\u001b[0;32m      4\u001b[0m \u001b[1;32mdef\u001b[0m \u001b[0mSoftThresholdingOp\u001b[0m\u001b[1;33m(\u001b[0m\u001b[0mx\u001b[0m\u001b[1;33m,\u001b[0m\u001b[0mp\u001b[0m\u001b[1;33m,\u001b[0m\u001b[0malpha\u001b[0m\u001b[1;33m)\u001b[0m\u001b[1;33m:\u001b[0m\u001b[1;33m\u001b[0m\u001b[0m\n\u001b[0;32m      5\u001b[0m     \u001b[1;32mfor\u001b[0m \u001b[0mc\u001b[0m \u001b[1;32min\u001b[0m \u001b[0mx\u001b[0m\u001b[1;33m:\u001b[0m\u001b[1;33m\u001b[0m\u001b[0m\n\u001b[1;32m----> 6\u001b[1;33m         \u001b[0mc\u001b[0m \u001b[1;33m=\u001b[0m \u001b[0mnp\u001b[0m\u001b[1;33m.\u001b[0m\u001b[0msign\u001b[0m\u001b[1;33m(\u001b[0m\u001b[0mc\u001b[0m\u001b[1;33m)\u001b[0m \u001b[1;33m*\u001b[0m \u001b[0mmax\u001b[0m\u001b[1;33m(\u001b[0m\u001b[0mabs\u001b[0m\u001b[1;33m(\u001b[0m\u001b[0mc\u001b[0m\u001b[1;33m)\u001b[0m\u001b[1;33m-\u001b[0m\u001b[0mp\u001b[0m\u001b[1;33m*\u001b[0m\u001b[0malpha\u001b[0m\u001b[1;33m,\u001b[0m \u001b[1;36m0\u001b[0m\u001b[1;33m)\u001b[0m\u001b[1;33m\u001b[0m\u001b[0m\n\u001b[0m\u001b[0;32m      7\u001b[0m     \u001b[1;32mreturn\u001b[0m \u001b[0mx\u001b[0m\u001b[1;33m\u001b[0m\u001b[0m\n\u001b[0;32m      8\u001b[0m \u001b[0mA\u001b[0m \u001b[1;33m=\u001b[0m \u001b[0mnp\u001b[0m\u001b[1;33m.\u001b[0m\u001b[0mload\u001b[0m\u001b[1;33m(\u001b[0m\u001b[1;34m\"assignment0828_A-Copy1.npy\"\u001b[0m\u001b[1;33m)\u001b[0m\u001b[1;33m\u001b[0m\u001b[0m\n",
      "\u001b[1;31mKeyboardInterrupt\u001b[0m: "
     ]
    }
   ],
   "source": [
    "import numpy as np\n",
    "def GradientDescent(A,b,x,alpha):\n",
    "    return x - alpha * A.T.dot(A.dot(x) - b)\n",
    "def SoftThresholdingOp(x,p,alpha):\n",
    "    for c in x:\n",
    "        c = np.sign(c) * max(abs(c)-p*alpha, 0)\n",
    "    return x\n",
    "A = np.load(\"assignment0828_A-Copy1.npy\")\n",
    "b = np.load(\"assignment0828_b-Copy1.npy\")\n",
    "p = 1\n",
    "alpha = 1/max(np.linalg.eig(A.T.dot(A))[0])\n",
    "#alpha = 1e-5\n",
    "x = np.full((2000,1),1)\n",
    "#x = range(2000)\n",
    "#x = np.reshape(x,(2000,1))\n",
    "#for n in range (2000):\n",
    "#    x[n] = [1]\n",
    "for k in range(5000):\n",
    "    print(k+1, end = \"\\r\")\n",
    "    #x = GradientDescent(A,b,x,alpha)\n",
    "    temp = x - alpha * A.T.dot(A.dot(x) - b)\n",
    "    x = temp\n",
    "    x = SoftThresholdingOp(x,p,alpha)\n",
    "    i = 0\n",
    "    for c in x:\n",
    "        c = np.sign(c) * max(abs(c)-p*alpha, 0)\n",
    "        x[i] = c\n",
    "        i += 1\n",
    "    #print(np.linalg.norm(A.dot(x) - b))\n",
    "    #print(x)\n",
    "    #print(sum(x))\n",
    "x"
   ]
  },
  {
   "cell_type": "code",
   "execution_count": 17,
   "metadata": {},
   "outputs": [
    {
     "name": "stdout",
     "output_type": "stream",
     "text": [
      "Printing the number of zeros in x (what we want to maximize):\n",
      "1063\n",
      "printing the norm of x:\n",
      "[62.12315385+0.j]\n",
      "Sanity Check, printing ||Ax-b|| (should be close to 0):\n",
      "0.8430575973963772\n",
      "Printing Ax-b:\n",
      "[[ 0.0518149 +0.j]\n",
      " [-0.01619483+0.j]\n",
      " [-0.01266765+0.j]\n",
      " [-0.05928218+0.j]\n",
      " [ 0.00528729+0.j]]\n"
     ]
    }
   ],
   "source": [
    "#A.T.dot(A.dot(x)-b).shape\n",
    "#A.T.shape\n",
    "#(A.dot(x)-b).shape\n",
    "#A.dot(x).shape\n",
    "#b.shape\n",
    "#np.linalg.eig(A.T.dot(A))\n",
    "#x = range(2000)\n",
    "#x = np.reshape(x,(2000,1))\n",
    "#for n in range (2000):\n",
    "#    x[n] = [1]\n",
    "#print(x)\n",
    "print(\"Printing the number of zeros in x (what we want to maximize):\")\n",
    "counter = 0\n",
    "for c in x:\n",
    "    if c == 0:\n",
    "        counter += 1\n",
    "print(counter)\n",
    "print(\"printing the norm of x:\")\n",
    "print(sum(x))\n",
    "print(\"Sanity Check, printing ||Ax-b|| (should be close to 0):\")\n",
    "print(np.linalg.norm(A.dot(x) - b))\n",
    "print(\"Printing Ax-b:\")\n",
    "print((A.dot(x)-b)[0:5,:])\n",
    "\n"
   ]
  },
  {
   "cell_type": "code",
   "execution_count": null,
   "metadata": {},
   "outputs": [],
   "source": []
  }
 ],
 "metadata": {
  "kernelspec": {
   "display_name": "Python 3",
   "language": "python",
   "name": "python3"
  },
  "language_info": {
   "codemirror_mode": {
    "name": "ipython",
    "version": 3
   },
   "file_extension": ".py",
   "mimetype": "text/x-python",
   "name": "python",
   "nbconvert_exporter": "python",
   "pygments_lexer": "ipython3",
   "version": "3.6.4"
  }
 },
 "nbformat": 4,
 "nbformat_minor": 2
}
