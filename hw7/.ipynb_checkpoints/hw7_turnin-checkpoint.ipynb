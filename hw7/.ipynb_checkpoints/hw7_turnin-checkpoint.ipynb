{
 "cells": [
  {
   "cell_type": "code",
   "execution_count": 21,
   "metadata": {},
   "outputs": [
    {
     "name": "stdout",
     "output_type": "stream",
     "text": [
      "(15,) (15, 15) (15, 15)\n"
     ]
    },
    {
     "ename": "TypeError",
     "evalue": "fh1() missing 1 required positional argument: 'x'",
     "output_type": "error",
     "traceback": [
      "\u001b[1;31m---------------------------------------------------------------------------\u001b[0m",
      "\u001b[1;31mTypeError\u001b[0m                                 Traceback (most recent call last)",
      "\u001b[1;32m<ipython-input-21-a6edb08de4dc>\u001b[0m in \u001b[0;36m<module>\u001b[1;34m()\u001b[0m\n\u001b[0;32m     46\u001b[0m \u001b[0mnodew2\u001b[0m \u001b[1;33m=\u001b[0m \u001b[0minputNode\u001b[0m\u001b[1;33m(\u001b[0m\u001b[0mw2\u001b[0m\u001b[1;33m)\u001b[0m\u001b[1;33m\u001b[0m\u001b[0m\n\u001b[0;32m     47\u001b[0m \u001b[1;31m#nodeb1 =\u001b[0m\u001b[1;33m\u001b[0m\u001b[1;33m\u001b[0m\u001b[0m\n\u001b[1;32m---> 48\u001b[1;33m \u001b[0mnodeh1\u001b[0m \u001b[1;33m=\u001b[0m \u001b[0mNode\u001b[0m\u001b[1;33m(\u001b[0m\u001b[0mfh1\u001b[0m\u001b[1;33m,\u001b[0m\u001b[1;33m[\u001b[0m\u001b[0mnodexi\u001b[0m\u001b[1;33m.\u001b[0m\u001b[0mvalue\u001b[0m\u001b[1;33m,\u001b[0m\u001b[0mnodew1\u001b[0m\u001b[1;33m.\u001b[0m\u001b[0mvalue\u001b[0m\u001b[1;33m]\u001b[0m\u001b[1;33m)\u001b[0m\u001b[1;33m\u001b[0m\u001b[0m\n\u001b[0m\u001b[0;32m     49\u001b[0m \u001b[0mnodeh2\u001b[0m \u001b[1;33m=\u001b[0m \u001b[0mNode\u001b[0m\u001b[1;33m(\u001b[0m\u001b[0mfh2\u001b[0m\u001b[1;33m,\u001b[0m\u001b[1;33m[\u001b[0m\u001b[0mnodew2\u001b[0m\u001b[1;33m.\u001b[0m\u001b[0mvalue\u001b[0m\u001b[1;33m,\u001b[0m\u001b[0mnodeh1\u001b[0m\u001b[1;33m.\u001b[0m\u001b[0mvalue\u001b[0m\u001b[1;33m]\u001b[0m\u001b[1;33m)\u001b[0m\u001b[1;33m\u001b[0m\u001b[0m\n",
      "\u001b[1;32m<ipython-input-21-a6edb08de4dc>\u001b[0m in \u001b[0;36m__init__\u001b[1;34m(self, f, input_list)\u001b[0m\n\u001b[0;32m      7\u001b[0m \u001b[1;32mclass\u001b[0m \u001b[0mNode\u001b[0m\u001b[1;33m:\u001b[0m\u001b[1;33m\u001b[0m\u001b[0m\n\u001b[0;32m      8\u001b[0m     \u001b[1;32mdef\u001b[0m \u001b[0m__init__\u001b[0m\u001b[1;33m(\u001b[0m\u001b[0mself\u001b[0m\u001b[1;33m,\u001b[0m\u001b[0mf\u001b[0m\u001b[1;33m,\u001b[0m\u001b[0minput_list\u001b[0m\u001b[1;33m)\u001b[0m\u001b[1;33m:\u001b[0m\u001b[1;33m\u001b[0m\u001b[0m\n\u001b[1;32m----> 9\u001b[1;33m         \u001b[0mself\u001b[0m\u001b[1;33m.\u001b[0m\u001b[0mvalue\u001b[0m \u001b[1;33m=\u001b[0m \u001b[0mf\u001b[0m\u001b[1;33m(\u001b[0m\u001b[0minput_list\u001b[0m\u001b[1;33m)\u001b[0m\u001b[1;33m\u001b[0m\u001b[0m\n\u001b[0m\u001b[0;32m     10\u001b[0m         \u001b[0mself\u001b[0m\u001b[1;33m.\u001b[0m\u001b[0mdf_values\u001b[0m \u001b[1;33m=\u001b[0m \u001b[1;33m[\u001b[0m\u001b[1;33m]\u001b[0m\u001b[1;33m\u001b[0m\u001b[0m\n\u001b[0;32m     11\u001b[0m         \u001b[0mself\u001b[0m\u001b[1;33m.\u001b[0m\u001b[0medge_dfvalues\u001b[0m \u001b[1;33m=\u001b[0m \u001b[1;33m[\u001b[0m\u001b[1;33m]\u001b[0m\u001b[1;33m\u001b[0m\u001b[0m\n",
      "\u001b[1;31mTypeError\u001b[0m: fh1() missing 1 required positional argument: 'x'"
     ]
    }
   ],
   "source": [
    "import numpy as np\n",
    "x = np.load(\"assignment7_X.npy\")\n",
    "w1 = np.load(\"assignment7_W1.npy\")\n",
    "w2 = np.load(\"assignment7_W2.npy\")\n",
    "print(x.shape,w1.shape,w2.shape)\n",
    "\n",
    "class Node:\n",
    "    def __init__(self,f,input_list):\n",
    "        self.value = f(input_list)\n",
    "        self.df_values = []\n",
    "        self.edge_dfvalues = []\n",
    "    def backprop(self,df_list,backp_input_list,prev_dfvalue_list):\n",
    "        for df in df_list:\n",
    "            self.df_values.append(df(backp_input_list))\n",
    "        #print(self.df_values,df_list)\n",
    "        self.dfvalue = np.array(self.df_values).dot(np.array(prev_dfvalue_list))\n",
    "        for i in range(len(self.df_values)):\n",
    "            self.edge_dfvalues.append(self.df_values[i] * prev_dfvalue_list[i])\n",
    "    def printnode(self):\n",
    "        print(\"forward value: \", self.value, \"\\ndfvalue (the sum of derivatives of all outgoing edges/the partial derivative of this node with respect to f): \", self.dfvalue)\n",
    "        for i in range(len(self.edge_dfvalues)):\n",
    "            print(\"Derivative of outgoing Edge #\", i, \" of this node: \", self.edge_dfvalues[i])\n",
    "class inputNode(Node):\n",
    "    def __init__(self,inputv):\n",
    "        self.value = inputv\n",
    "        self.df_values = []\n",
    "        self.edge_dfvalues = []\n",
    "        \n",
    "def fh1(w,x):\n",
    "    return w.dot(x)\n",
    "def fh2(w,x):\n",
    "    return w.dot(x)\n",
    "def dh2dh1(backp_input_list):\n",
    "    return backp_input_list[0]\n",
    "def dh2dw2(backp_input_list):\n",
    "    toRet = np.zeros((15,15))\n",
    "    count = 0\n",
    "    for i in toRet:\n",
    "        toRet[count] = backp_input_list[1]\n",
    "        count += 1\n",
    "    return toRet\n",
    "def dh1dw1(backp_input_list):\n",
    "    toRet = np.zeros((15,15))\n",
    "    count = 0\n",
    "    for i in toRet:\n",
    "        toRet[count] = backp_input_list[0]\n",
    "        count += 1\n",
    "    return toRet\n",
    "        \n",
    "nodexi = inputNode(x)\n",
    "nodexi.value\n",
    "nodew1 = inputNode(w1)\n",
    "nodew2 = inputNode(w2)\n",
    "#nodeb1 = \n",
    "nodeh1 = Node(fh1,[nodexi.value,nodew1.value])\n",
    "nodeh2 = Node(fh2,[nodew2.value,nodeh1.value])\n",
    "\n",
    "nodeh2.backprop([dh2dh1,dh2dw2],[nodeh1.value,nodew2.value],[np.ones((15,15))])\n",
    "nodeh1.backprop([dh1dw1],[nodexi.value,nodew1.value],[nodeh2.dfvalue])\n",
    "\n",
    "print(\"\")\n"
   ]
  },
  {
   "cell_type": "code",
   "execution_count": 20,
   "metadata": {},
   "outputs": [
    {
     "name": "stdout",
     "output_type": "stream",
     "text": [
      "[1. 2. 3.]\n",
      "[1. 2. 3.]\n",
      "[1. 2. 3.]\n"
     ]
    },
    {
     "data": {
      "text/plain": [
       "array([[1., 2., 3.],\n",
       "       [1., 2., 3.],\n",
       "       [1., 2., 3.]])"
      ]
     },
     "execution_count": 20,
     "metadata": {},
     "output_type": "execute_result"
    }
   ],
   "source": [
    "a = [1 ,2, 3]\n",
    "b = np.zeros((3,3))\n",
    "b[0] = a\n",
    "j =0\n",
    "for i in b:\n",
    "    b[j] = a\n",
    "    j+=1\n",
    "    print(i)\n",
    "b"
   ]
  },
  {
   "cell_type": "code",
   "execution_count": null,
   "metadata": {},
   "outputs": [],
   "source": []
  }
 ],
 "metadata": {
  "kernelspec": {
   "display_name": "Python 3",
   "language": "python",
   "name": "python3"
  },
  "language_info": {
   "codemirror_mode": {
    "name": "ipython",
    "version": 3
   },
   "file_extension": ".py",
   "mimetype": "text/x-python",
   "name": "python",
   "nbconvert_exporter": "python",
   "pygments_lexer": "ipython3",
   "version": "3.6.4"
  }
 },
 "nbformat": 4,
 "nbformat_minor": 2
}
